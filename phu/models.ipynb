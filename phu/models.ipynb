{
 "cells": [
  {
   "cell_type": "code",
   "execution_count": 5,
   "metadata": {},
   "outputs": [
    {
     "data": {
      "text/plain": [
       "[(1235496, 'squeezenet1_1'),\n",
       " (1366792, 'shufflenet_v2_x0_5'),\n",
       " (2218512, 'mnasnet0_5'),\n",
       " (2278604, 'shufflenet_v2_x1_0'),\n",
       " (2542856, 'mobilenet_v3_small'),\n",
       " (3170208, 'mnasnet0_75'),\n",
       " (3503624, 'shufflenet_v2_x1_5'),\n",
       " (4383312, 'mnasnet1_0'),\n",
       " (5483032, 'mobilenet_v3_large'),\n",
       " (6282256, 'mnasnet1_3'),\n",
       " (7393996, 'shufflenet_v2_x2_0'),\n",
       " (7978856, 'densenet121'),\n",
       " (11689512, 'resnet18'),\n",
       " (13004888, 'googlenet'),\n",
       " (14149480, 'densenet169'),\n",
       " (20013928, 'densenet201'),\n",
       " (21797672, 'resnet34'),\n",
       " (25028904, 'resnext50_32x4d'),\n",
       " (25557032, 'resnet50'),\n",
       " (27161264, 'inception_v3'),\n",
       " (28681000, 'densenet161'),\n",
       " (44549160, 'resnet101'),\n",
       " (60192808, 'resnet152'),\n",
       " (61100840, 'alexnet'),\n",
       " (68883240, 'wide_resnet50_2'),\n",
       " (88791336, 'resnext101_32x8d'),\n",
       " (126886696, 'wide_resnet101_2'),\n",
       " (132863336, 'vgg11'),\n",
       " (132868840, 'vgg11_bn'),\n",
       " (133047848, 'vgg13'),\n",
       " (133053736, 'vgg13_bn'),\n",
       " (138357544, 'vgg16'),\n",
       " (138365992, 'vgg16_bn'),\n",
       " (143667240, 'vgg19'),\n",
       " (143678248, 'vgg19_bn')]"
      ]
     },
     "execution_count": 5,
     "metadata": {},
     "output_type": "execute_result"
    }
   ],
   "source": [
    "from torchvision import models\n",
    "\n",
    "blah = [\n",
    "    'alexnet',\n",
    "    'densenet121',\n",
    "    'densenet161',\n",
    "    'densenet169',\n",
    "    'densenet201',\n",
    "    'googlenet',\n",
    "    'inception_v3',\n",
    "    'mnasnet0_5',\n",
    "    'mnasnet0_75',\n",
    "    'mnasnet1_0',\n",
    "    'mnasnet1_3',\n",
    "    'mobilenet_v3_large',\n",
    "    'mobilenet_v3_small',\n",
    "    'resnet101',\n",
    "    'resnet152',\n",
    "    'resnet18',\n",
    "    'resnet34',\n",
    "    'resnet50',\n",
    "    'resnext101_32x8d',\n",
    "    'resnext50_32x4d',\n",
    "    'shufflenet_v2_x0_5',\n",
    "    'shufflenet_v2_x1_0',\n",
    "    'shufflenet_v2_x1_5',\n",
    "    'shufflenet_v2_x2_0',\n",
    "    'squeezenet1_1',\n",
    "    'vgg11',\n",
    "    'vgg11_bn',\n",
    "    'vgg13',\n",
    "    'vgg13_bn',\n",
    "    'vgg16',\n",
    "    'vgg16_bn',\n",
    "    'vgg19',\n",
    "    'vgg19_bn',\n",
    "    'wide_resnet101_2',\n",
    "    'wide_resnet50_2',\n",
    "]\n",
    "\n",
    "bleh = []\n",
    "for m in blah:\n",
    "    model = getattr(models, m)()\n",
    "    size = sum(p.numel() for p in model.parameters() if p.requires_grad)\n",
    "    bleh.append((size, m))\n",
    "    \n",
    "sorted(bleh)"
   ]
  },
  {
   "cell_type": "code",
   "execution_count": 13,
   "metadata": {},
   "outputs": [
    {
     "name": "stdout",
     "output_type": "stream",
     "text": [
      "squeezenet Sequential(\n",
      "  (0): Dropout(p=0.5, inplace=False)\n",
      "  (1): Conv2d(512, 1000, kernel_size=(1, 1), stride=(1, 1))\n",
      "  (2): ReLU(inplace=True)\n",
      "  (3): AdaptiveAvgPool2d(output_size=(1, 1))\n",
      ")\n",
      "shufflenet Linear(in_features=1024, out_features=1000, bias=True)\n",
      "mnasnet Sequential(\n",
      "  (0): Dropout(p=0.2, inplace=True)\n",
      "  (1): Linear(in_features=1280, out_features=1000, bias=True)\n",
      ")\n",
      "mobilenet Sequential(\n",
      "  (0): Linear(in_features=576, out_features=1024, bias=True)\n",
      "  (1): Hardswish()\n",
      "  (2): Dropout(p=0.2, inplace=True)\n",
      "  (3): Linear(in_features=1024, out_features=1000, bias=True)\n",
      ")\n"
     ]
    }
   ],
   "source": [
    "from torchvision import models\n",
    "\n",
    "print('squeezenet', models.squeezenet1_1().classifier)\n",
    "print('shufflenet', models.shufflenet_v2_x0_5().fc)\n",
    "print('mnasnet', models.mnasnet0_5().classifier)\n",
    "print('mobilenet', models.mobilenet_v3_small().classifier)"
   ]
  }
 ],
 "metadata": {
  "accelerator": "GPU",
  "colab": {
   "name": "final-project.ipynb",
   "provenance": []
  },
  "kernelspec": {
   "display_name": "Python 3",
   "language": "python",
   "name": "python3"
  },
  "language_info": {
   "codemirror_mode": {
    "name": "ipython",
    "version": 3
   },
   "file_extension": ".py",
   "mimetype": "text/x-python",
   "name": "python",
   "nbconvert_exporter": "python",
   "pygments_lexer": "ipython3",
   "version": "3.8.9"
  }
 },
 "nbformat": 4,
 "nbformat_minor": 4
}
