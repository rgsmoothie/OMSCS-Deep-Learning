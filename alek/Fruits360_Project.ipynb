{
  "nbformat": 4,
  "nbformat_minor": 0,
  "metadata": {
    "colab": {
      "name": "Fruits360-Project.ipynb",
      "provenance": [],
      "collapsed_sections": []
    },
    "kernelspec": {
      "name": "python3",
      "display_name": "Python 3"
    },
    "language_info": {
      "name": "python"
    }
  },
  "cells": [
    {
      "cell_type": "markdown",
      "metadata": {
        "id": "GDKoNDUibd3M"
      },
      "source": [
        ""
      ]
    },
    {
      "cell_type": "code",
      "metadata": {
        "id": "e3_6aDSMbdCZ"
      },
      "source": [
        "import os\n",
        "import numpy as np\n",
        "import csv\n",
        "import copy\n",
        "\n",
        "import torch\n",
        "import torch.nn as nn\n",
        "import torch.nn.functional as F\n",
        "import torch.nn.init as init\n",
        "\n",
        "from torch.utils.data import random_split\n",
        "from torch.utils.data.dataloader import DataLoader\n",
        "\n",
        "import torchvision\n",
        "import torchvision.models as models\n",
        "import torchvision.transforms as transforms\n",
        "\n",
        "from torch.utils.data import random_split\n",
        "from torch.utils.data.dataloader import DataLoader\n",
        "from torchvision.datasets import ImageFolder\n",
        "import torchvision.models as models\n",
        "from torchvision.transforms import ToTensor\n",
        "from torchvision.utils import make_grid\n",
        "\n",
        "import matplotlib.pyplot as plt\n",
        "%matplotlib inline"
      ],
      "execution_count": null,
      "outputs": []
    },
    {
      "cell_type": "markdown",
      "metadata": {
        "id": "yK2pbyEaw3BK"
      },
      "source": [
        ""
      ]
    },
    {
      "cell_type": "code",
      "metadata": {
        "id": "wLZtk0FCw3a5"
      },
      "source": [
        "def get_label(dir_name):\n",
        "    return dir_name.split(' ')[0]\n",
        "\n",
        "class Fruits360Dataset(ImageFolder):\n",
        "    def find_classes(self, directory):\n",
        "        dirs = sorted(entry.name for entry in os.scandir(directory) if entry.is_dir())\n",
        "        dirs_to_classes = {cls_name: get_label(cls_name) for cls_name in dirs}\n",
        "        classes = set(dirs_to_classes.values())\n",
        "        classes_to_indices = {c: i for i, c in enumerate(classes)}\n",
        "        class_to_idx = {d: classes_to_indices[dirs_to_classes[d]] for d in dirs}\n",
        "        return classes, class_to_idx\n",
        "\n",
        "class DeviceLoader():\n",
        "    def __init__(self, dl, device):\n",
        "        self.dl = dl\n",
        "        self.device = device\n",
        "        \n",
        "    def __iter__(self):\n",
        "        for b in self.dl: \n",
        "            yield to_device(b, self.device)\n",
        "\n",
        "    def __len__(self):\n",
        "        return len(self.dl)\n",
        "\n",
        "def get_device():\n",
        "    if torch.cuda.is_available():\n",
        "        return torch.device('cuda')\n",
        "    else:\n",
        "        return torch.device('cpu')\n",
        "    \n",
        "def to_device(data, device):\n",
        "    if isinstance(data, (list,tuple)):\n",
        "        return [to_device(x, device) for x in data]\n",
        "    return data.to(device, non_blocking=True)"
      ],
      "execution_count": null,
      "outputs": []
    },
    {
      "cell_type": "markdown",
      "metadata": {
        "id": "-woGvh5WKaSo"
      },
      "source": [
        ""
      ]
    },
    {
      "cell_type": "code",
      "metadata": {
        "id": "2uCr0bWXKa3V"
      },
      "source": [
        "class Model(nn.Module):\n",
        "    def __init__(self, input_size, output_size):\n",
        "        super().__init__()\n",
        "\n",
        "        self.flatten = nn.Flatten()\n",
        "        self.relu = nn.ReLU()\n",
        "        self.sigmoid = nn.Sigmoid()\n",
        "        self.pool = nn.MaxPool2d((2, 2), stride=2)\n",
        "\n",
        "        self.drop1 = nn.Dropout(.25)\n",
        "        self.drop2 = nn.Dropout(.4)\n",
        "\n",
        "        self.batch1 = nn.BatchNorm2d(32)\n",
        "        self.batch2 = nn.BatchNorm2d(64)\n",
        "        self.batch3 = nn.BatchNorm1d(128)\n",
        "\n",
        "        #Conv Layers\n",
        "        self.layer1 = nn.Conv2d(in_channels=3, out_channels=32, kernel_size=3, padding=1)\n",
        "        self.layer2 = nn.Conv2d(in_channels=32, out_channels=32, kernel_size=3, padding=1)\n",
        "        self.layer3 = nn.Conv2d(in_channels=32, out_channels=64, kernel_size=3, padding=1)\n",
        "        self.layer4 = nn.Conv2d(in_channels=64, out_channels=64, kernel_size=3, padding=1)\n",
        "\n",
        "        #FC Layers\n",
        "        self.fc1 = nn.Linear(4096, 128)\n",
        "        self.fc2 = nn.Linear(128, 10)\n",
        "        \n",
        "    def forward(self, x):\n",
        "        x = self.batch1(self.relu(self.layer1(x)))\n",
        "        x = self.batch1(self.relu(self.layer2(x)))\n",
        "        x = self.drop1(self.pool(x))\n",
        "\n",
        "        x = self.batch2(self.relu(self.layer3(x)))\n",
        "        x = self.batch2(self.relu(self.layer4(x)))\n",
        "        x = self.drop2(self.pool(x))\n",
        "\n",
        "        x = self.batch3(self.relu(self.fc1(self.flatten(x))))\n",
        "        outs = self.fc2(x)\n",
        "    \n",
        "    def training_step(self, batch):\n",
        "        images, labels = batch \n",
        "        return F.cross_entropy(self(images), labels)\n",
        "        \n",
        "    def validation_step(self, batch):\n",
        "        images, labels = batch \n",
        "        out = self(images)                   \n",
        "        loss = F.cross_entropy(out, labels)   \n",
        "        _, preds = torch.max(out, dim=1)\n",
        "        acc = torch.tensor(torch.sum(preds == labels).item() / len(preds))\n",
        "        return {'validation_loss': loss.detach(), 'validation_accuracy': acc}\n",
        "        \n",
        "    def validation_epoch_end(self, outputs):\n",
        "        batch_accuracies = [x['validation_accuracy'] for x in outputs]\n",
        "        epoch_accuracies = torch.stack(batch_accuracies).mean()\n",
        "        batch_losses = [x['validation_loss'] for x in outputs]\n",
        "        epoch_loss = torch.stack(batch_losses).mean()\n",
        "        return {'validation_accuracy': epoch_accuracies.item(), 'validation_loss': epoch_loss.item()}\n",
        "\n",
        "    def fit(model, criterion, optimizer, scheduler, num_epochs=10):\n",
        "      since = time.time()\n",
        "      best_acc = 0\n",
        "      for epoch in range(num_epochs):\n",
        "          print('Epoch {}/{}'.format(epoch, num_epochs - 1))\n",
        "          print('-' * 15)\n",
        "          \n",
        "          for phase in ['train', 'valid']:\n",
        "              if phase == 'train':\n",
        "                  scheduler.step()\n",
        "                  model.train()\n",
        "              else:\n",
        "                  model.eval()\n",
        "                  \n",
        "              running_loss = 0\n",
        "              running_corrects = 0\n",
        "              \n",
        "              for inputs, labels in dataloaders[phase]:\n",
        "                  inputs = inputs.to(device) \n",
        "                  labels = labels.to(device)\n",
        "                  optimizer.zero_grad()\n",
        "                  \n",
        "                  with torch.set_grad_enabled(phase == 'train'):\n",
        "                      # get outputs and predictions\n",
        "                      outputs = model(inputs)\n",
        "                      _, preds = torch.max(outputs, 1)\n",
        "                      \n",
        "                      loss = criterion(outputs, labels)\n",
        "                      \n",
        "                      if phase == 'train':\n",
        "                          loss.backward()\n",
        "                          optimizer.step()\n",
        "                          \n",
        "                  running_loss += loss.item() * inputs.size(0)\n",
        "                  running_corrects += torch.sum(preds == labels.data)\n",
        "                  \n",
        "              epoch_loss = running_loss / dataset_sizes[phase]\n",
        "              epoch_acc = running_corrects.double() / dataset_sizes[phase]\n",
        "              \n",
        "              if phase == 'valid' and epoch_acc > best_acc:\n",
        "                  best_acc = epoch_acc\n",
        "                  best_model_wts = copy.deepcopy(model.state_dict())\n",
        "      time_elapsed = time.time() - since\n",
        "      print('Training took {:.0f}m {:.0f}s'.format(time_elapsed // 60, time_elapsed % 60))\n",
        "      print('Best validation Acc: {:4f}'.format(best_acc))\n",
        "      \n",
        "      model.load_state_dict(best_model_wts)\n",
        "      return model"
      ],
      "execution_count": null,
      "outputs": []
    },
    {
      "cell_type": "code",
      "metadata": {
        "id": "GqKt7FcJKniq"
      },
      "source": [
        "def plot_results(x, label='Results', text=''):\n",
        "    plt.plot(x, '-x')\n",
        "    plt.xlabel('Epoch')\n",
        "    plt.ylabel(f'{label}')\n",
        "    plt.title(f'{label} vs. No. of epochs {text}');"
      ],
      "execution_count": null,
      "outputs": []
    },
    {
      "cell_type": "code",
      "metadata": {
        "id": "DDrEmmnOvmZ0"
      },
      "source": [
        "dataset = Fruits360Dataset(\"./fruits-360/Training\", transform=ToTensor())\n",
        "testset = Fruits360Dataset(\"./fruits-360/Test\", transform=ToTensor())"
      ],
      "execution_count": null,
      "outputs": []
    },
    {
      "cell_type": "code",
      "metadata": {
        "id": "8f5TTjdxvwOK"
      },
      "source": [
        "train_dataset, validation_dataset = random_split(dataset, [(len(dataset) - validation_size), int(len(dataset) * 0.1)])\n",
        "len(train_dataset), len(validation_dataset)"
      ],
      "execution_count": null,
      "outputs": []
    },
    {
      "cell_type": "code",
      "metadata": {
        "id": "y8tnjaUgX4Mw"
      },
      "source": [
        "model = fit(model, criterion, optimizer, exp_scheduler, num_epochs=10)\n",
        "\n"
      ],
      "execution_count": null,
      "outputs": []
    }
  ]
}