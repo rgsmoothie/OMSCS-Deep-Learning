{
 "cells": [
  {
   "cell_type": "code",
   "execution_count": 1,
   "metadata": {
    "_cell_guid": "79c7e3d0-c299-4dcb-8224-4455121ee9b0",
    "_uuid": "d629ff2d2480ee46fbb7e2d37f6b5fab8052498a"
   },
   "outputs": [],
   "source": [
    "import os\n",
    "import numpy as np\n",
    "\n",
    "import torch\n",
    "import torch.nn as nn\n",
    "import torch.nn.functional as F\n",
    "\n",
    "from torch.utils.data import random_split\n",
    "from torch.utils.data.dataloader import DataLoader\n",
    "from torchvision.datasets import ImageFolder\n",
    "import torchvision.models as models\n",
    "from torchvision.transforms import ToTensor\n",
    "from torchvision.utils import make_grid\n",
    "\n",
    "import matplotlib.pyplot as plt\n",
    "%matplotlib inline"
   ]
  },
  {
   "cell_type": "markdown",
   "metadata": {},
   "source": [
    "# Extraction, Model and Data Loading custom classes"
   ]
  },
  {
   "cell_type": "code",
   "execution_count": 2,
   "metadata": {},
   "outputs": [],
   "source": [
    "def get_label(dir_name):\n",
    "    return dir_name.split(' ')[0]\n",
    "\n",
    "class Fruits360Dataset(ImageFolder):\n",
    "    def find_classes(self, directory):\n",
    "        dirs = sorted(entry.name for entry in os.scandir(directory) if entry.is_dir())\n",
    "        dirs_to_classes = {cls_name: get_label(cls_name) for cls_name in dirs}\n",
    "        classes = set(dirs_to_classes.values())\n",
    "        classes_to_indices = {c: i for i, c in enumerate(classes)}\n",
    "        class_to_idx = {d: classes_to_indices[dirs_to_classes[d]] for d in dirs}\n",
    "        return classes, class_to_idx"
   ]
  },
  {
   "cell_type": "code",
   "execution_count": 3,
   "metadata": {},
   "outputs": [],
   "source": [
    "class DeviceLoader():\n",
    "    def __init__(self, dl, device):\n",
    "        self.dl = dl\n",
    "        self.device = device\n",
    "        \n",
    "    def __iter__(self):\n",
    "        for b in self.dl: \n",
    "            yield to_device(b, self.device)\n",
    "\n",
    "    def __len__(self):\n",
    "        return len(self.dl)"
   ]
  },
  {
   "cell_type": "code",
   "execution_count": 4,
   "metadata": {},
   "outputs": [],
   "source": [
    "def get_device():\n",
    "    if torch.cuda.is_available():\n",
    "        return torch.device('cuda')\n",
    "    else:\n",
    "        return torch.device('cpu')\n",
    "    \n",
    "def to_device(data, device):\n",
    "    if isinstance(data, (list,tuple)):\n",
    "        return [to_device(x, device) for x in data]\n",
    "    return data.to(device, non_blocking=True)"
   ]
  },
  {
   "cell_type": "code",
   "execution_count": 5,
   "metadata": {},
   "outputs": [],
   "source": [
    "class Model(nn.Module):\n",
    "    def __init__(self, input_size, output_size):\n",
    "        super().__init__()\n",
    "        self.linear1 = nn.Linear(input_size, 2096)\n",
    "        self.hidden1 = nn.Linear(2096, 1048)\n",
    "        self.hidden2 = nn.Linear(1048, 524)\n",
    "        self.linear2 = nn.Linear(524, output_size)\n",
    "        \n",
    "    def forward(self, x):\n",
    "        out1 = self.linear1(x.view(x.size(0), -1))\n",
    "        out2 = self.hidden1(F.relu(out1))\n",
    "        out3 = self.hidden2(F.relu(out2))\n",
    "        return self.linear2(F.relu(out3))\n",
    "    \n",
    "    def step(self, batch, sample_type):\n",
    "        images, labels = batch \n",
    "        out = self(images)                   \n",
    "        loss = F.cross_entropy(out, labels)   \n",
    "        _, preds = torch.max(out, dim=1)\n",
    "        acc = torch.tensor(torch.sum(preds == labels).item() / len(preds))\n",
    "        return loss, {f'{sample_type}_loss': loss.detach(), f'{sample_type}_accuracy': acc}\n",
    "\n",
    "    def training_epoch_end(self, outputs):\n",
    "        batch_accuracies = [x['training_accuracy'] for x in outputs]\n",
    "        epoch_accuracies = torch.stack(batch_accuracies).mean()\n",
    "        batch_losses = [x['training_loss'] for x in outputs]\n",
    "        epoch_loss = torch.stack(batch_losses).mean()\n",
    "        return {'training_accuracy': epoch_accuracies.item(), 'training_loss': epoch_loss.item()}\n",
    "        \n",
    "    def validation_epoch_end(self, outputs):\n",
    "        batch_accuracies = [x['validation_accuracy'] for x in outputs]\n",
    "        epoch_accuracies = torch.stack(batch_accuracies).mean()\n",
    "        batch_losses = [x['validation_loss'] for x in outputs]\n",
    "        epoch_loss = torch.stack(batch_losses).mean()\n",
    "        return {'validation_accuracy': epoch_accuracies.item(), 'validation_loss': epoch_loss.item()}\n",
    "    \n",
    "    def fit(self, epochs, learning_rate, model, train_loader, validation_loader, opt_func=torch.optim.SGD):\n",
    "        training_results = []\n",
    "        validation_results = []\n",
    "        optimizer = opt_func(model.parameters(), learning_rate)\n",
    "        for epoch in range(epochs):\n",
    "            training_outputs = []\n",
    "            for batch in train_loader:\n",
    "                loss, training_output = model.step(batch, 'training')\n",
    "                loss.backward()\n",
    "                optimizer.step()\n",
    "                optimizer.zero_grad()\n",
    "                training_outputs.append(training_output)\n",
    "                \n",
    "            training_result = model.training_epoch_end(training_outputs)\n",
    "            training_results.append(training_result)\n",
    "            validation_outputs = [model.step(batch, 'validation')[1] for batch in validation_loader]\n",
    "            validation_result = model.validation_epoch_end(validation_outputs)\n",
    "            validation_results.append(validation_result)\n",
    "            \n",
    "        return training_results, validation_results"
   ]
  },
  {
   "cell_type": "code",
   "execution_count": 6,
   "metadata": {},
   "outputs": [],
   "source": [
    "def plot_results(x, label='Results', text=''):\n",
    "    plt.plot(x, '-x')\n",
    "    plt.xlabel('epoch')\n",
    "    plt.ylabel(f'{label}')\n",
    "    plt.title(f'{label} vs. No. of epochs {text}');"
   ]
  },
  {
   "cell_type": "markdown",
   "metadata": {},
   "source": [
    "# Extract Data, Fitting and Results"
   ]
  },
  {
   "cell_type": "code",
   "execution_count": 8,
   "metadata": {},
   "outputs": [
    {
     "data": {
      "text/plain": [
       "(67699, 22688)"
      ]
     },
     "execution_count": 8,
     "metadata": {},
     "output_type": "execute_result"
    }
   ],
   "source": [
    "dataset = Fruits360Dataset(\"./fruits-360/Training\", transform=ToTensor())\n",
    "test = Fruits360Dataset(\"./fruits-360/Test\", transform=ToTensor())\n",
    "len(dataset), len(test)"
   ]
  },
  {
   "cell_type": "code",
   "execution_count": 9,
   "metadata": {},
   "outputs": [],
   "source": [
    "validation_size = int(len(dataset) * 0.1)\n",
    "train_size = len(dataset) - validation_size"
   ]
  },
  {
   "cell_type": "code",
   "execution_count": 10,
   "metadata": {},
   "outputs": [
    {
     "data": {
      "text/plain": [
       "(60930, 6769)"
      ]
     },
     "execution_count": 10,
     "metadata": {},
     "output_type": "execute_result"
    }
   ],
   "source": [
    "train_dataset, validation_dataset = random_split(dataset, [train_size, validation_size])\n",
    "len(train_dataset), len(validation_dataset)"
   ]
  },
  {
   "cell_type": "code",
   "execution_count": 11,
   "metadata": {},
   "outputs": [
    {
     "name": "stderr",
     "output_type": "stream",
     "text": [
      "/opt/conda/lib/python3.7/site-packages/torch/utils/data/dataloader.py:481: UserWarning: This DataLoader will create 4 worker processes in total. Our suggested max number of worker in current system is 2, which is smaller than what this DataLoader is going to create. Please be aware that excessive worker creation might get DataLoader running slow or even freeze, lower the worker number to avoid potential slowness/freeze if necessary.\n",
      "  cpuset_checked))\n"
     ]
    }
   ],
   "source": [
    "batch_size = 64\n",
    "train_loader = DataLoader(train_dataset, batch_size, shuffle=True, num_workers=4, pin_memory=True)\n",
    "validation_loader = DataLoader(validation_dataset, batch_size*4, num_workers=2, pin_memory=True)\n",
    "test_loader = DataLoader(test, batch_size*4, num_workers=2, pin_memory=True)"
   ]
  },
  {
   "cell_type": "code",
   "execution_count": 12,
   "metadata": {},
   "outputs": [],
   "source": [
    "device = get_device()\n",
    "train_loader = DeviceLoader(train_loader, device)\n",
    "validation_loader = DeviceLoader(validation_loader, device)\n",
    "test_loader = DeviceLoader(test_loader, device)"
   ]
  },
  {
   "cell_type": "code",
   "execution_count": 13,
   "metadata": {},
   "outputs": [],
   "source": [
    "input_size = np.prod(np.array(dataset[0][0].shape)) # 3*100*100\n",
    "output_size = len(dataset.find_classes(\"./fruits-360/Training\")[0]) # 67 classes"
   ]
  },
  {
   "cell_type": "code",
   "execution_count": 14,
   "metadata": {},
   "outputs": [
    {
     "data": {
      "text/plain": [
       "[{'validation_accuracy': 0.00977010652422905,\n",
       "  'validation_loss': 4.211748123168945}]"
      ]
     },
     "execution_count": 14,
     "metadata": {},
     "output_type": "execute_result"
    }
   ],
   "source": [
    "model = to_device(Model(input_size, output_size), device)"
   ]
  },
  {
   "cell_type": "code",
   "execution_count": 15,
   "metadata": {},
   "outputs": [],
   "source": [
    "# training_results, validation_results = model.fit(10, 0.05, model, train_loader, validation_loader)"
   ]
  },
  {
   "cell_type": "code",
   "execution_count": 16,
   "metadata": {},
   "outputs": [],
   "source": [
    "# training_results1, validation_results1 = model.fit(10, 0.02, model, train_loader, validation_loader)"
   ]
  },
  {
   "cell_type": "code",
   "execution_count": null,
   "metadata": {},
   "outputs": [],
   "source": [
    "training_results2, validation_results2 = model.fit(10, 0.001, model, train_loader, validation_loader)"
   ]
  },
  {
   "cell_type": "code",
   "execution_count": 22,
   "metadata": {},
   "outputs": [
    {
     "data": {
      "text/plain": [
       "[{'validation_accuracy': 0.09243639558553696,\n",
       "  'validation_loss': 3.903703212738037},\n",
       " {'validation_accuracy': 0.10321922600269318,\n",
       "  'validation_loss': 3.7652618885040283},\n",
       " {'validation_accuracy': 0.1708008050918579,\n",
       "  'validation_loss': 3.614274024963379},\n",
       " {'validation_accuracy': 0.17629849910736084,\n",
       "  'validation_loss': 3.426072359085083},\n",
       " {'validation_accuracy': 0.18588551878929138,\n",
       "  'validation_loss': 3.2494866847991943},\n",
       " {'validation_accuracy': 0.18654105067253113,\n",
       "  'validation_loss': 3.0606348514556885},\n",
       " {'validation_accuracy': 0.2196129411458969,\n",
       "  'validation_loss': 2.83864688873291},\n",
       " {'validation_accuracy': 0.2695261240005493,\n",
       "  'validation_loss': 2.622375726699829},\n",
       " {'validation_accuracy': 0.28761959075927734,\n",
       "  'validation_loss': 2.4010889530181885},\n",
       " {'validation_accuracy': 0.23701246082782745,\n",
       "  'validation_loss': 2.6183526515960693}]"
      ]
     },
     "execution_count": 22,
     "metadata": {},
     "output_type": "execute_result"
    }
   ],
   "source": [
    "validation_results2"
   ]
  },
  {
   "cell_type": "code",
   "execution_count": 30,
   "metadata": {},
   "outputs": [],
   "source": [
    "training_accuracies = [x['training_accuracy'] for x in training_results2]\n",
    "training_losses = [x['training_loss'] for x in training_results2]"
   ]
  },
  {
   "cell_type": "code",
   "execution_count": 31,
   "metadata": {},
   "outputs": [],
   "source": [
    "validation_accuracies = [x['validation_accuracy'] for x in validation_results2]\n",
    "validation_losses = [x['validation_loss'] for x in validation_results2]"
   ]
  },
  {
   "cell_type": "code",
   "execution_count": 32,
   "metadata": {},
   "outputs": [
    {
     "data": {
      "text/plain": [
       "Text(0.5, 1.0, 'Accuracy')"
      ]
     },
     "execution_count": 32,
     "metadata": {},
     "output_type": "execute_result"
    },
    {
     "data": {
      "image/png": "[encoded data removed]",
      "text/plain": [
       "<Figure size 432x288 with 1 Axes>"
      ]
     },
     "metadata": {
      "needs_background": "light"
     },
     "output_type": "display_data"
    }
   ],
   "source": [
    "plot_results(training_accuracies, label = 'train')\n",
    "plot_results(validation_accuracies, label = 'validation')\n",
    "plt.title('Accuracy')"
   ]
  },
  {
   "cell_type": "code",
   "execution_count": 33,
   "metadata": {},
   "outputs": [
    {
     "data": {
      "text/plain": [
       "Text(0.5, 1.0, 'Loss')"
      ]
     },
     "execution_count": 33,
     "metadata": {},
     "output_type": "execute_result"
    },
    {
     "data": {
      "image/png": "[encoded data removed]",
      "text/plain": [
       "<Figure size 432x288 with 1 Axes>"
      ]
     },
     "metadata": {
      "needs_background": "light"
     },
     "output_type": "display_data"
    }
   ],
   "source": [
    "plot_results(training_losses, label = 'train')\n",
    "plot_results(validation_losses, label = 'validation')\n",
    "plt.title('Loss')"
   ]
  }
 ],
 "metadata": {
  "kernelspec": {
   "display_name": "Python 3",
   "language": "python",
   "name": "python3"
  },
  "language_info": {
   "codemirror_mode": {
    "name": "ipython",
    "version": 3
   },
   "file_extension": ".py",
   "mimetype": "text/x-python",
   "name": "python",
   "nbconvert_exporter": "python",
   "pygments_lexer": "ipython3",
   "version": "3.7.6"
  }
 },
 "nbformat": 4,
 "nbformat_minor": 4
}
