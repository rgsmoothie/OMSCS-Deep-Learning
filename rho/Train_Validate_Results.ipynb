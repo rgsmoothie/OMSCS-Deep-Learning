{
 "cells": [
  {
   "cell_type": "code",
   "execution_count": 1,
   "metadata": {},
   "outputs": [],
   "source": [
    "# Learning Rate = 0.05\n",
    "training_results = \\\n",
    "[{'training_accuracy': 0.2941369414329529, 'training_loss': 2.489896535873413},\n",
    " {'training_accuracy': 0.6194090843200684, 'training_loss': 1.2296898365020752},\n",
    " {'training_accuracy': 0.8275183439254761, 'training_loss': 0.5740430951118469},\n",
    " {'training_accuracy': 0.93515545129776, 'training_loss': 0.22438617050647736},\n",
    " {'training_accuracy': 0.952829897403717, 'training_loss': 0.18402373790740967},\n",
    " {'training_accuracy': 0.9854899048805237, 'training_loss': 0.058575376868247986},\n",
    " {'training_accuracy': 0.9803252816200256, 'training_loss': 0.08122557401657104},\n",
    " {'training_accuracy': 0.958355188369751, 'training_loss': 0.18788756430149078},\n",
    " {'training_accuracy': 0.98671954870224, 'training_loss': 0.06294601410627365},\n",
    " {'training_accuracy': 0.9992294311523438, 'training_loss': 0.005239528138190508}]"
   ]
  },
  {
   "cell_type": "code",
   "execution_count": 2,
   "metadata": {},
   "outputs": [],
   "source": [
    "validation_results = \\\n",
    "[{'validation_accuracy': 0.08549194782972336, 'validation_loss': 11.825355529785156},\n",
    " {'validation_accuracy': 0.4860534965991974, 'validation_loss': 3.639540195465088},\n",
    " {'validation_accuracy': 0.9140740036964417, 'validation_loss': 0.27079856395721436},\n",
    " {'validation_accuracy': 0.7624562382698059, 'validation_loss': 1.0095010995864868},\n",
    " {'validation_accuracy': 0.9895064830780029, 'validation_loss': 0.0393335334956646},\n",
    " {'validation_accuracy': 0.8834795355796814, 'validation_loss': 0.3870876431465149},\n",
    " {'validation_accuracy': 0.3181551396846771, 'validation_loss': 10.21839714050293},\n",
    " {'validation_accuracy': 0.9956597089767456, 'validation_loss': 0.02242371067404747},\n",
    " {'validation_accuracy': 0.9989872574806213, 'validation_loss': 0.01110739354044199},\n",
    " {'validation_accuracy': 0.9991319179534912, 'validation_loss': 0.0055578285828232765}]"
   ]
  },
  {
   "cell_type": "code",
   "execution_count": 3,
   "metadata": {},
   "outputs": [],
   "source": [
    "# Learning Rate = 0.02\n",
    "training_results1 = \\\n",
    "[{'training_accuracy': 0.23824435472488403, 'training_loss': 2.832265853881836},\n",
    " {'training_accuracy': 0.5514493584632874, 'training_loss': 1.3964695930480957},\n",
    " {'training_accuracy': 0.7849225997924805, 'training_loss': 0.6985657215118408},\n",
    " {'training_accuracy': 0.8908381462097168, 'training_loss': 0.38454997539520264},\n",
    " {'training_accuracy': 0.926580548286438, 'training_loss': 0.2957562208175659},\n",
    " {'training_accuracy': 0.9667333364486694, 'training_loss': 0.1352098435163498},\n",
    " {'training_accuracy': 0.977095365524292, 'training_loss': 0.11724687367677689},\n",
    " {'training_accuracy': 0.8399789929389954, 'training_loss': 0.7128186225891113},\n",
    " {'training_accuracy': 0.9490097165107727, 'training_loss': 0.2425689697265625},\n",
    " {'training_accuracy': 0.9865884184837341, 'training_loss': 0.06995147466659546}]"
   ]
  },
  {
   "cell_type": "code",
   "execution_count": 4,
   "metadata": {},
   "outputs": [],
   "source": [
    "validation_results1 = \\\n",
    "[{'validation_accuracy': 0.1809665411710739, 'validation_loss': 4.77000617980957},\n",
    " {'validation_accuracy': 0.4189353883266449, 'validation_loss': 2.4273245334625244},\n",
    " {'validation_accuracy': 0.3155509829521179, 'validation_loss': 5.066290855407715},\n",
    " {'validation_accuracy': 0.2694198787212372, 'validation_loss': 8.618077278137207},\n",
    " {'validation_accuracy': 0.977344810962677, 'validation_loss': 0.08417858183383942},\n",
    " {'validation_accuracy': 0.9868639707565308, 'validation_loss': 0.05566604435443878},\n",
    " {'validation_accuracy': 0.10362381488084793, 'validation_loss': 52.214698791503906},\n",
    " {'validation_accuracy': 0.9666861295700073, 'validation_loss': 0.12974850833415985},\n",
    " {'validation_accuracy': 0.9838257431983948, 'validation_loss': 0.08491433411836624},\n",
    " {'validation_accuracy': 0.9963446855545044, 'validation_loss': 0.021662112325429916}]"
   ]
  },
  {
   "cell_type": "code",
   "execution_count": 5,
   "metadata": {},
   "outputs": [],
   "source": [
    "# Learning Rate = 0.001\n",
    "training_results2 = \\\n",
    "[{'training_accuracy': 0.08528987318277359,\n",
    "  'training_loss': 4.120100975036621},\n",
    " {'training_accuracy': 0.11130967736244202,\n",
    "  'training_loss': 3.8087470531463623},\n",
    " {'training_accuracy': 0.16021773219108582,\n",
    "  'training_loss': 3.6995553970336914},\n",
    " {'training_accuracy': 0.17779381573200226, 'training_loss': 3.51625394821167},\n",
    " {'training_accuracy': 0.18366342782974243,\n",
    "  'training_loss': 3.3389434814453125},\n",
    " {'training_accuracy': 0.1989441215991974,\n",
    "  'training_loss': 3.1449363231658936},\n",
    " {'training_accuracy': 0.2269969880580902,\n",
    "  'training_loss': 2.9167251586914062},\n",
    " {'training_accuracy': 0.251819908618927, 'training_loss': 2.666670322418213},\n",
    " {'training_accuracy': 0.2953830063343048, 'training_loss': 2.443295955657959},\n",
    " {'training_accuracy': 0.3377983868122101,\n",
    "  'training_loss': 2.2445616722106934}]"
   ]
  },
  {
   "cell_type": "code",
   "execution_count": 6,
   "metadata": {},
   "outputs": [],
   "source": [
    "validation_results2 = \\\n",
    "[{'validation_accuracy': 0.09243639558553696,\n",
    "  'validation_loss': 3.903703212738037},\n",
    " {'validation_accuracy': 0.10321922600269318,\n",
    "  'validation_loss': 3.7652618885040283},\n",
    " {'validation_accuracy': 0.1708008050918579,\n",
    "  'validation_loss': 3.614274024963379},\n",
    " {'validation_accuracy': 0.17629849910736084,\n",
    "  'validation_loss': 3.426072359085083},\n",
    " {'validation_accuracy': 0.18588551878929138,\n",
    "  'validation_loss': 3.2494866847991943},\n",
    " {'validation_accuracy': 0.18654105067253113,\n",
    "  'validation_loss': 3.0606348514556885},\n",
    " {'validation_accuracy': 0.2196129411458969,\n",
    "  'validation_loss': 2.83864688873291},\n",
    " {'validation_accuracy': 0.2695261240005493,\n",
    "  'validation_loss': 2.622375726699829},\n",
    " {'validation_accuracy': 0.28761959075927734,\n",
    "  'validation_loss': 2.4010889530181885},\n",
    " {'validation_accuracy': 0.23701246082782745,\n",
    "  'validation_loss': 2.6183526515960693}]"
   ]
  },
  {
   "cell_type": "code",
   "execution_count": 7,
   "metadata": {},
   "outputs": [],
   "source": [
    "import matplotlib.pyplot as plt\n",
    "%matplotlib inline\n",
    "\n",
    "def plot_results(x, label='Results', text=''):\n",
    "    plt.plot(x, '-x')\n",
    "    plt.xlabel('epoch')\n",
    "    plt.ylabel(f'{label}')\n",
    "    plt.title(f'{label} vs. No. of epochs {text}');"
   ]
  },
  {
   "cell_type": "code",
   "execution_count": 8,
   "metadata": {},
   "outputs": [
    {
     "data": {
      "text/plain": [
       "Text(0.5, 1.0, 'Accuracy')"
      ]
     },
     "execution_count": 8,
     "metadata": {},
     "output_type": "execute_result"
    },
    {
     "data": {
      "image/png": "[encoded data removed]",
      "text/plain": [
       "<Figure size 432x288 with 1 Axes>"
      ]
     },
     "metadata": {
      "needs_background": "light"
     },
     "output_type": "display_data"
    }
   ],
   "source": [
    "training_accuracies = [x['training_accuracy'] for x in training_results2]\n",
    "validation_accuracies = [x['validation_accuracy'] for x in validation_results2]\n",
    "\n",
    "plot_results(training_accuracies, label = 'train')\n",
    "plot_results(validation_accuracies, label = 'validation')\n",
    "plt.title('Accuracy')"
   ]
  },
  {
   "cell_type": "code",
   "execution_count": 9,
   "metadata": {},
   "outputs": [
    {
     "name": "stdout",
     "output_type": "stream",
     "text": [
      "0.20292169377207755\n",
      "0.19289526119828224\n"
     ]
    }
   ],
   "source": [
    "import numpy as np\n",
    "print(np.mean(training_accuracies))\n",
    "print(np.mean(validation_accuracies))"
   ]
  },
  {
   "cell_type": "code",
   "execution_count": null,
   "metadata": {},
   "outputs": [],
   "source": []
  }
 ],
 "metadata": {
  "kernelspec": {
   "display_name": "Python 3",
   "language": "python",
   "name": "python3"
  },
  "language_info": {
   "codemirror_mode": {
    "name": "ipython",
    "version": 3
   },
   "file_extension": ".py",
   "mimetype": "text/x-python",
   "name": "python",
   "nbconvert_exporter": "python",
   "pygments_lexer": "ipython3",
   "version": "3.7.6"
  }
 },
 "nbformat": 4,
 "nbformat_minor": 4
}
